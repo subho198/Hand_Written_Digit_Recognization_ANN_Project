{
 "cells": [
  {
   "cell_type": "code",
   "execution_count": 1,
   "id": "04378250",
   "metadata": {},
   "outputs": [],
   "source": [
    "### Importing Necessery Libraries and Modules..\n",
    "import numpy as np\n",
    "import pandas as pd\n",
    "import seaborn as sns\n",
    "import matplotlib.pyplot as plt\n",
    "%matplotlib inline\n",
    "\n",
    "import tensorflow as tf\n",
    "from tensorflow import keras"
   ]
  },
  {
   "cell_type": "code",
   "execution_count": 2,
   "id": "bc55dcfc",
   "metadata": {},
   "outputs": [],
   "source": [
    "### Let's load Hand Written Digits Dataset from keras library..\n",
    "(X_train,y_train),(X_test,y_test)=keras.datasets.mnist.load_data()"
   ]
  },
  {
   "cell_type": "code",
   "execution_count": 3,
   "id": "1faef2ec",
   "metadata": {},
   "outputs": [
    {
     "data": {
      "text/plain": [
       "(60000, 28, 28)"
      ]
     },
     "execution_count": 3,
     "metadata": {},
     "output_type": "execute_result"
    }
   ],
   "source": [
    "X_train.shape"
   ]
  },
  {
   "cell_type": "code",
   "execution_count": 4,
   "id": "bcae02bf",
   "metadata": {},
   "outputs": [
    {
     "data": {
      "text/plain": [
       "(10000, 28, 28)"
      ]
     },
     "execution_count": 4,
     "metadata": {},
     "output_type": "execute_result"
    }
   ],
   "source": [
    "X_test.shape"
   ]
  },
  {
   "cell_type": "code",
   "execution_count": 5,
   "id": "38f81f4d",
   "metadata": {},
   "outputs": [
    {
     "data": {
      "text/plain": [
       "(60000,)"
      ]
     },
     "execution_count": 5,
     "metadata": {},
     "output_type": "execute_result"
    }
   ],
   "source": [
    "y_train.shape"
   ]
  },
  {
   "cell_type": "code",
   "execution_count": 6,
   "id": "0c0f5c02",
   "metadata": {},
   "outputs": [
    {
     "data": {
      "text/plain": [
       "(28, 28)"
      ]
     },
     "execution_count": 6,
     "metadata": {},
     "output_type": "execute_result"
    }
   ],
   "source": [
    "X_train[0].shape"
   ]
  },
  {
   "cell_type": "code",
   "execution_count": 7,
   "id": "4ad13d92",
   "metadata": {},
   "outputs": [
    {
     "data": {
      "text/plain": [
       "5"
      ]
     },
     "execution_count": 7,
     "metadata": {},
     "output_type": "execute_result"
    }
   ],
   "source": [
    "y_train[0]"
   ]
  },
  {
   "cell_type": "markdown",
   "id": "f34a7fae",
   "metadata": {},
   "source": [
    "> \n",
    "- There are 60k samples in the training dataset and 10k in test dataset..\n",
    "- Each datapoint is a 2D array."
   ]
  },
  {
   "cell_type": "code",
   "execution_count": 8,
   "id": "716d14ed",
   "metadata": {},
   "outputs": [
    {
     "data": {
      "text/plain": [
       "5"
      ]
     },
     "execution_count": 8,
     "metadata": {},
     "output_type": "execute_result"
    },
    {
     "data": {
      "image/png": "[encoded data removed]",
      "text/plain": [
       "<Figure size 288x288 with 1 Axes>"
      ]
     },
     "metadata": {
      "needs_background": "light"
     },
     "output_type": "display_data"
    }
   ],
   "source": [
    "###Let's check the first Image..\n",
    "plt.matshow(X_train[0])\n",
    "y_train[0]"
   ]
  },
  {
   "cell_type": "markdown",
   "id": "a694bb35",
   "metadata": {},
   "source": [
    "### We need to convert(flattening) each datapoints into a single dimension array from the 2D array before we pass it to Neural Network's input layer.."
   ]
  },
  {
   "cell_type": "markdown",
   "id": "37cd479b",
   "metadata": {},
   "source": [
    "> *** Before training our model we should always try to scale down our Data..***"
   ]
  },
  {
   "cell_type": "code",
   "execution_count": 9,
   "id": "5c1a3140",
   "metadata": {},
   "outputs": [],
   "source": [
    "X_train=X_train/255\n",
    "X_test=X_test/255"
   ]
  },
  {
   "cell_type": "code",
   "execution_count": 10,
   "id": "cc7d3c2f",
   "metadata": {},
   "outputs": [
    {
     "data": {
      "text/plain": [
       "array([[0., 0., 0., ..., 0., 0., 0.],\n",
       "       [0., 0., 0., ..., 0., 0., 0.],\n",
       "       [0., 0., 0., ..., 0., 0., 0.],\n",
       "       ...,\n",
       "       [0., 0., 0., ..., 0., 0., 0.],\n",
       "       [0., 0., 0., ..., 0., 0., 0.],\n",
       "       [0., 0., 0., ..., 0., 0., 0.]])"
      ]
     },
     "execution_count": 10,
     "metadata": {},
     "output_type": "execute_result"
    }
   ],
   "source": [
    "X_train.reshape(X_train.shape[0],28*28)\n",
    "X_test.reshape(X_test.shape[0],28*28)"
   ]
  },
  {
   "cell_type": "code",
   "execution_count": 11,
   "id": "233e8fd0",
   "metadata": {},
   "outputs": [
    {
     "data": {
      "text/plain": [
       "(10000, 784)"
      ]
     },
     "execution_count": 11,
     "metadata": {},
     "output_type": "execute_result"
    }
   ],
   "source": [
    "X_train.reshape(X_train.shape[0],28*28).shape\n",
    "X_test.reshape(X_test.shape[0],28*28).shape"
   ]
  },
  {
   "cell_type": "code",
   "execution_count": 12,
   "id": "f859fa31",
   "metadata": {},
   "outputs": [],
   "source": [
    "X_train_flattened=X_train.reshape(X_train.shape[0],28*28)\n",
    "X_test_flattened=X_test.reshape(X_test.shape[0],28*28)"
   ]
  },
  {
   "cell_type": "markdown",
   "id": "854b83d2",
   "metadata": {},
   "source": [
    "### Model Building.."
   ]
  },
  {
   "cell_type": "code",
   "execution_count": 13,
   "id": "072944f0",
   "metadata": {},
   "outputs": [
    {
     "name": "stdout",
     "output_type": "stream",
     "text": [
      "Epoch 1/5\n",
      "1875/1875 [==============================] - 2s 722us/step - loss: 0.4701 - accuracy: 0.8770\n",
      "Epoch 2/5\n",
      "1875/1875 [==============================] - 1s 684us/step - loss: 0.3045 - accuracy: 0.9153\n",
      "Epoch 3/5\n",
      "1875/1875 [==============================] - 1s 658us/step - loss: 0.2831 - accuracy: 0.9210\n",
      "Epoch 4/5\n",
      "1875/1875 [==============================] - 1s 608us/step - loss: 0.2733 - accuracy: 0.9238\n",
      "Epoch 5/5\n",
      "1875/1875 [==============================] - 1s 601us/step - loss: 0.2670 - accuracy: 0.9254\n"
     ]
    },
    {
     "data": {
      "text/plain": [
       "<keras.callbacks.History at 0x26de8e44d90>"
      ]
     },
     "execution_count": 13,
     "metadata": {},
     "output_type": "execute_result"
    }
   ],
   "source": [
    "model=keras.Sequential([\n",
    "    keras.layers.Dense(units=10,input_shape=(28*28,),activation='sigmoid')])\n",
    "\n",
    "model.compile(optimizer='adam',\n",
    "             loss='sparse_categorical_crossentropy',\n",
    "             metrics=['accuracy'])\n",
    "\n",
    "model.fit(X_train_flattened,y_train,epochs=5)\n"
   ]
  },
  {
   "cell_type": "markdown",
   "id": "796cff1e",
   "metadata": {},
   "source": [
    "### Evaluating our model's performance.."
   ]
  },
  {
   "cell_type": "code",
   "execution_count": 19,
   "id": "aa9559a1",
   "metadata": {},
   "outputs": [
    {
     "name": "stdout",
     "output_type": "stream",
     "text": [
      "313/313 [==============================] - 0s 524us/step - loss: 0.2673 - accuracy: 0.9248\n"
     ]
    },
    {
     "data": {
      "text/plain": [
       "[0.26727479696273804, 0.9247999787330627]"
      ]
     },
     "execution_count": 19,
     "metadata": {},
     "output_type": "execute_result"
    }
   ],
   "source": [
    "model.evaluate(X_test_flattened,y_test)"
   ]
  },
  {
   "cell_type": "code",
   "execution_count": 21,
   "id": "bdc3121e",
   "metadata": {},
   "outputs": [],
   "source": [
    "pred=model.predict(X_test_flattened)"
   ]
  },
  {
   "cell_type": "code",
   "execution_count": 22,
   "id": "a392144e",
   "metadata": {},
   "outputs": [
    {
     "data": {
      "text/plain": [
       "array([3.7714154e-02, 3.8859324e-07, 6.1674684e-02, 9.6702981e-01,\n",
       "       3.0465126e-03, 1.1721885e-01, 2.3698715e-06, 9.9981695e-01,\n",
       "       1.0105720e-01, 6.5898240e-01], dtype=float32)"
      ]
     },
     "execution_count": 22,
     "metadata": {},
     "output_type": "execute_result"
    }
   ],
   "source": [
    "pred[0]###As there are 10 output neurons that is why it is giving 10 outputs..\n",
    "###and we will consider that output which has the highest value and we will taket the position of it.."
   ]
  },
  {
   "cell_type": "code",
   "execution_count": 23,
   "id": "425fa42b",
   "metadata": {},
   "outputs": [
    {
     "data": {
      "text/plain": [
       "7"
      ]
     },
     "execution_count": 23,
     "metadata": {},
     "output_type": "execute_result"
    }
   ],
   "source": [
    "np.argmax(pred[0])"
   ]
  },
  {
   "cell_type": "code",
   "execution_count": 24,
   "id": "6e661928",
   "metadata": {},
   "outputs": [
    {
     "data": {
      "text/plain": [
       "7"
      ]
     },
     "execution_count": 24,
     "metadata": {},
     "output_type": "execute_result"
    }
   ],
   "source": [
    "y_test[0]"
   ]
  },
  {
   "cell_type": "markdown",
   "id": "60330e3b",
   "metadata": {},
   "source": [
    "### Let's build a Confusion Matrix.."
   ]
  },
  {
   "cell_type": "code",
   "execution_count": 25,
   "id": "28012a68",
   "metadata": {},
   "outputs": [],
   "source": [
    "final_pred=[np.argmax(i) for i in pred]"
   ]
  },
  {
   "cell_type": "code",
   "execution_count": 27,
   "id": "5727c7dd",
   "metadata": {},
   "outputs": [
    {
     "data": {
      "text/plain": [
       "[7, 2, 1, 0, 4]"
      ]
     },
     "execution_count": 27,
     "metadata": {},
     "output_type": "execute_result"
    }
   ],
   "source": [
    "final_pred[:5]"
   ]
  },
  {
   "cell_type": "code",
   "execution_count": 28,
   "id": "c04adadc",
   "metadata": {},
   "outputs": [
    {
     "data": {
      "text/plain": [
       "<tf.Tensor: shape=(10, 10), dtype=int32, numpy=\n",
       "array([[ 961,    0,    2,    2,    0,    5,    7,    2,    1,    0],\n",
       "       [   0, 1114,    3,    2,    0,    1,    4,    2,    9,    0],\n",
       "       [   7,   10,  919,   19,    8,    4,   13,   10,   36,    6],\n",
       "       [   2,    0,   17,  927,    1,   20,    3,    9,   21,   10],\n",
       "       [   1,    1,    2,    2,  914,    0,   12,    4,    6,   40],\n",
       "       [   9,    3,    2,   40,   12,  761,   18,    7,   33,    7],\n",
       "       [  10,    3,    4,    1,    7,    9,  919,    2,    3,    0],\n",
       "       [   1,    5,   22,    7,    9,    0,    0,  946,    2,   36],\n",
       "       [   7,   10,    6,   27,   10,   20,   10,   12,  861,   11],\n",
       "       [  11,    6,    1,   12,   24,    5,    0,   19,    5,  926]])>"
      ]
     },
     "execution_count": 28,
     "metadata": {},
     "output_type": "execute_result"
    }
   ],
   "source": [
    "tf.math.confusion_matrix(labels=y_test,predictions=final_pred)"
   ]
  },
  {
   "cell_type": "code",
   "execution_count": 33,
   "id": "158280c6",
   "metadata": {},
   "outputs": [
    {
     "data": {
      "text/plain": [
       "Text(87.0, 0.5, 'True_Value')"
      ]
     },
     "execution_count": 33,
     "metadata": {},
     "output_type": "execute_result"
    },
    {
     "data": {
      "image/png": "[encoded data removed]",
      "text/plain": [
       "<Figure size 864x576 with 2 Axes>"
      ]
     },
     "metadata": {
      "needs_background": "light"
     },
     "output_type": "display_data"
    }
   ],
   "source": [
    "plt.figure(figsize=(12,8))\n",
    "sns.heatmap(tf.math.confusion_matrix(labels=y_test,predictions=final_pred),annot=True,fmt='d')\n",
    "plt.xlabel('Predicted')\n",
    "plt.ylabel('True_Value')"
   ]
  },
  {
   "cell_type": "markdown",
   "id": "5088000b",
   "metadata": {},
   "source": [
    "### Let's try to improve the model's performance by adding Hidden Layer.."
   ]
  },
  {
   "cell_type": "code",
   "execution_count": 34,
   "id": "879cbaa0",
   "metadata": {},
   "outputs": [
    {
     "name": "stdout",
     "output_type": "stream",
     "text": [
      "Epoch 1/5\n",
      "1875/1875 [==============================] - 2s 947us/step - loss: 0.2728 - accuracy: 0.9228\n",
      "Epoch 2/5\n",
      "1875/1875 [==============================] - 2s 1ms/step - loss: 0.1239 - accuracy: 0.9638\n",
      "Epoch 3/5\n",
      "1875/1875 [==============================] - 2s 1ms/step - loss: 0.0877 - accuracy: 0.9732\n",
      "Epoch 4/5\n",
      "1875/1875 [==============================] - 2s 1ms/step - loss: 0.0660 - accuracy: 0.9797\n",
      "Epoch 5/5\n",
      "1875/1875 [==============================] - 2s 951us/step - loss: 0.0531 - accuracy: 0.9833\n"
     ]
    },
    {
     "data": {
      "text/plain": [
       "<keras.callbacks.History at 0x26df2993850>"
      ]
     },
     "execution_count": 34,
     "metadata": {},
     "output_type": "execute_result"
    }
   ],
   "source": [
    "model_1=keras.Sequential([\n",
    "    keras.layers.Dense(units=100,input_shape=(28*28,),activation='relu'),\n",
    "    keras.layers.Dense(units=10,activation='sigmoid')])\n",
    "\n",
    "model_1.compile(optimizer='adam',\n",
    "             loss='sparse_categorical_crossentropy',\n",
    "             metrics=['accuracy'])\n",
    "\n",
    "model_1.fit(X_train_flattened,y_train,epochs=5)"
   ]
  },
  {
   "cell_type": "code",
   "execution_count": 35,
   "id": "79fac59f",
   "metadata": {},
   "outputs": [
    {
     "name": "stdout",
     "output_type": "stream",
     "text": [
      "313/313 [==============================] - 0s 617us/step - loss: 0.0809 - accuracy: 0.9768\n"
     ]
    },
    {
     "data": {
      "text/plain": [
       "[0.08085164427757263, 0.9768000245094299]"
      ]
     },
     "execution_count": 35,
     "metadata": {},
     "output_type": "execute_result"
    }
   ],
   "source": [
    "model_1.evaluate(X_test_flattened,y_test)"
   ]
  },
  {
   "cell_type": "code",
   "execution_count": 36,
   "id": "9fe674d7",
   "metadata": {},
   "outputs": [
    {
     "data": {
      "text/plain": [
       "Text(87.0, 0.5, 'True_Value')"
      ]
     },
     "execution_count": 36,
     "metadata": {},
     "output_type": "execute_result"
    },
    {
     "data": {
      "image/png": "[encoded data removed]",
      "text/plain": [
       "<Figure size 864x576 with 2 Axes>"
      ]
     },
     "metadata": {
      "needs_background": "light"
     },
     "output_type": "display_data"
    }
   ],
   "source": [
    "pred_1=model_1.predict(X_test_flattened)\n",
    "final_pred_1=[np.argmax(i) for i in pred_1]\n",
    "plt.figure(figsize=(12,8))\n",
    "sns.heatmap(tf.math.confusion_matrix(labels=y_test,predictions=final_pred_1),annot=True,fmt='d')\n",
    "plt.xlabel('Predicted')\n",
    "plt.ylabel('True_Value')"
   ]
  },
  {
   "cell_type": "markdown",
   "id": "181da425",
   "metadata": {},
   "source": [
    "### Instead of flattening our training and testing data we can use keras inbuild flatten function..It will automatically flatten the 2D arrays.."
   ]
  },
  {
   "cell_type": "code",
   "execution_count": null,
   "id": "3661b483",
   "metadata": {},
   "outputs": [],
   "source": [
    "model_2=keras.Sequential([\n",
    "    keras.layers.Flatten(input_shape=(28*28,),)\n",
    "    keras.layers.Dense(units=100,activation='relu'),\n",
    "    keras.layers.Dense(units=10,activation='sigmoid')])\n",
    "\n",
    "model_2.compile(optimizer='adam',\n",
    "             loss='sparse_categorical_crossentropy',\n",
    "             metrics=['accuracy'])\n",
    "\n",
    "model_2.fit(X_train_flattened,y_train,epochs=5)"
   ]
  }
 ],
 "metadata": {
  "kernelspec": {
   "display_name": "Python 3 (ipykernel)",
   "language": "python",
   "name": "python3"
  },
  "language_info": {
   "codemirror_mode": {
    "name": "ipython",
    "version": 3
   },
   "file_extension": ".py",
   "mimetype": "text/x-python",
   "name": "python",
   "nbconvert_exporter": "python",
   "pygments_lexer": "ipython3",
   "version": "3.9.7"
  }
 },
 "nbformat": 4,
 "nbformat_minor": 5
}
